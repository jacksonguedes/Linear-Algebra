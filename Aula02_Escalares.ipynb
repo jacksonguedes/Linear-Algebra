{
  "nbformat": 4,
  "nbformat_minor": 0,
  "metadata": {
    "colab": {
      "provenance": [],
      "authorship_tag": "ABX9TyOjprK9HgUJc6iOUQPQvBh0",
      "include_colab_link": true
    },
    "kernelspec": {
      "name": "python3",
      "display_name": "Python 3"
    },
    "language_info": {
      "name": "python"
    }
  },
  "cells": [
    {
      "cell_type": "markdown",
      "metadata": {
        "id": "view-in-github",
        "colab_type": "text"
      },
      "source": [
        "<a href=\"https://colab.research.google.com/github/jacksonguedes/Linear-Algebra/blob/main/Aula02_Escalares.ipynb\" target=\"_parent\"><img src=\"https://colab.research.google.com/assets/colab-badge.svg\" alt=\"Open In Colab\"/></a>"
      ]
    },
    {
      "cell_type": "markdown",
      "source": [
        "**Escalares**: É um único valor numérico associado a alguma unidade de medida para caracterizar uma grandeza da natureza."
      ],
      "metadata": {
        "id": "K2BclSXWyjs0"
      }
    },
    {
      "cell_type": "code",
      "execution_count": 1,
      "metadata": {
        "id": "aCuEhFHFyRNB"
      },
      "outputs": [],
      "source": [
        "T = 30 # °C\n",
        "v = 45 # km/h\n",
        "L = 30 # metros"
      ]
    },
    {
      "cell_type": "code",
      "source": [
        "print(f'Valor da temperatura: {T} °C')\n",
        "print(f'Valor da velocidade: {v} km/h')\n",
        "print(f'Valor da comprimento: {L}m')"
      ],
      "metadata": {
        "colab": {
          "base_uri": "https://localhost:8080/"
        },
        "id": "W4Odoo1nzZYh",
        "outputId": "dd77f865-633e-4c4a-a4ae-047d2e439672"
      },
      "execution_count": 4,
      "outputs": [
        {
          "output_type": "stream",
          "name": "stdout",
          "text": [
            "Valor da temperatura: 30 °C\n",
            "Valor da velocidade: 45 km/h\n",
            "Valor da comprimento: 30m\n"
          ]
        }
      ]
    }
  ]
}